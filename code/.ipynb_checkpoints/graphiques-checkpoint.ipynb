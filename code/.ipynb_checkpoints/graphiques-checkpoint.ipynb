{
 "cells": [
  {
   "cell_type": "code",
   "execution_count": 2,
   "metadata": {},
   "outputs": [],
   "source": [
    "%matplotlib inline\n",
    "import numpy as np\n",
    "import matplotlib \n",
    "import matplotlib.pyplot as plt"
   ]
  },
  {
   "cell_type": "code",
   "execution_count": 3,
   "metadata": {},
   "outputs": [],
   "source": [
    "import os\n",
    "myCmd1_ = 'g++ __main__.cpp -o a'\n",
    "myCmd1 = 'g++ __main__.cpp annexes.cpp grille.cpp joueur.cpp -o a'\n",
    "myCmd2 = './a'"
   ]
  },
  {
   "cell_type": "code",
   "execution_count": 4,
   "metadata": {},
   "outputs": [],
   "source": [
    "def sci(x):\n",
    "    if (np.ceil(np.log10(x)) == 1):\n",
    "        return round(x,2)\n",
    "    elif (np.ceil(np.log10(x)) == 2):\n",
    "        return round(x,1)\n",
    "    else:\n",
    "        return (\"{:0.2e}\".format(x))\n",
    "\n",
    "def sci_s(x):\n",
    "    if (np.ceil(np.log10(x)) == 1):\n",
    "        return str(round(x,2))\n",
    "    elif (np.ceil(np.log10(x)) == 2):\n",
    "        return str(round(x,1))\n",
    "    else:\n",
    "        return str(\"{:0.2e}\".format(x))"
   ]
  },
  {
   "cell_type": "code",
   "execution_count": 5,
   "metadata": {},
   "outputs": [],
   "source": [
    "def afficheHisto_1data():   #Prend en argument 1 liste de scores\n",
    "    data = np.loadtxt(\"resultats.dat\", delimiter = ' ')\n",
    "    N = np.shape(data[:,0])[0]\n",
    "    gagnant = data[:,2]\n",
    "    labels, counts = np.unique(gagnant, return_counts=True)\n",
    "    plt.bar(labels, counts, align='center', color = \"orange\")\n",
    "    #plt.hist(gagnant, color=\"orange\", bins=3)\n",
    "    plt.xticks([0, 1, 2],[\"Egalité\", \"Blanc\", \"Noir\"])\n",
    "    plt.title(\"Nombre de parties gagnées\")   #add sur cb de parties ?\n",
    "    print(\"Nombre d'égalité, de victoires de blanc, de victoires de noir : \", counts)\n",
    "    print(\"Pourcentage d'égalité, de victoires de blanc, de victoires de noir : \", counts/N*100)\n",
    "    dx = 0.3\n",
    "    plt.text(0-dx,1/2*counts[0], str(counts[0]) + ' (' + str(round(counts[0]/N*100,2)) + '%)')\n",
    "    plt.text(1-dx,1/2*counts[1], str(counts[1]) + ' (' + str(round(counts[1]/N*100,2)) + '%)')\n",
    "    plt.text(2-dx,1/2*counts[2], str(counts[2]) + ' (' + str(round(counts[2]/N*100,2)) + '%)')\n",
    "    plt.axhline(y = (N-counts[0])/2, xmin=0, xmax=3, c=\"darkred\", linestyle=\"dashed\") "
   ]
  },
  {
   "cell_type": "code",
   "execution_count": 38,
   "metadata": {},
   "outputs": [],
   "source": [
    "def afficheHisto_moy(moy, std):   #Prend en argument une moyenne de scores\n",
    "    plt.bar([0, 1, 2], moy, align='center', color = \"orange\")\n",
    "    plt.xticks([0, 1, 2],[\"Egalité\", \"Blanc\", \"Noir\"])\n",
    "    plt.title(\"Nombre de parties gagnées\")   #add sur cb de parties ?\n",
    "    #print(\"Nombre d'égalité, de victoires de blanc, de victoires de Noir en moyenne: \", moy)\n",
    "    N = 1000\n",
    "    dx = 0.3\n",
    "    plt.text(0-dx,1/2*moy[0], str(round(moy[0],1)) + ' (' + str(round(moy[0]/N*100,1)) + '%)')\n",
    "    plt.text(1-dx,1/2*moy[1], str(round(moy[1],1)) + ' (' + str(round(moy[1]/N*100,1)) + '%)')\n",
    "    plt.text(2-dx,1/2*moy[2], str(round(moy[2],1)) + ' (' + str(round(moy[2]/N*100,1)) + '%)')\n",
    "    \n",
    "    for i in range(3):\n",
    "        plt.axhline(y = moy[i]+std[i], xmin=i*(1/3)+0.04, xmax=(i+1)*(1/3)-0.04, c=\"grey\", linestyle=\"dashed\")\n",
    "        plt.axhline(y = moy[i]-std[i], xmin=i*(1/3)+0.04, xmax=(i+1)*(1/3)-0.04, c=\"grey\", linestyle=\"dashed\")\n",
    "    plt.axhline(y = (N-moy[0])/2, xmin=0, xmax=3, c=\"darkred\", linestyle=\"dashed\", label=\"$N_{blanc}^{vict} = N_{noir}^{vict}$\")\n",
    "    plt.legend()\n",
    "    \n",
    "def stats(string):   #Moyenne sur 100 sets de 1000 data\n",
    "    data = np.loadtxt(string, delimiter = ' ')\n",
    "    nbVict = np.zeros((100,3))    #nbVictoires, dim 100\n",
    "    for i in range(100):\n",
    "        gagnant = data[i*1000 : (i+1)*1000, 2]\n",
    "        nbVict[i][0] = np.sum(gagnant == 0)\n",
    "        nbVict[i][1] = np.sum(gagnant == 1)\n",
    "        nbVict[i][2] = np.sum(gagnant == 2)\n",
    "    afficheHisto_moy(np.mean(nbVict, axis=0), np.std(nbVict, axis=0))"
   ]
  },
  {
   "cell_type": "code",
   "execution_count": 12,
   "metadata": {},
   "outputs": [],
   "source": [
    "def stats1(N):    #fait une moyenne sur N listes du nb de victoires B/N\n",
    "    print(\"Nombre de set de parties sur lequel on moyenne: \", N)\n",
    "    nbVict = np.zeros((N,3))   # tableau du nb de vict pour chaque set de data \n",
    "    for i in range(N):         # (0 = egalité, 1 = blanc, 2 = noir)\n",
    "        os.system(myCmd1)\n",
    "        os.system(myCmd2)\n",
    "        data = np.loadtxt(\"resultats.dat\", delimiter = ' ')   #[scoreB, scoreN, gagnant]\n",
    "        gagnant = data[:,2]\n",
    "        nbVict[i][0] = np.sum(gagnant == 0)\n",
    "        nbVict[i][1] = np.sum(gagnant == 1)\n",
    "        nbVict[i][2] = np.sum(gagnant == 2)\n",
    "        \n",
    "    afficheHisto_moy(np.mean(nbVict, axis=0), np.std(nbVict, axis=0), N)\n",
    "    #print(np.std(nbEgalite), np.std(nbVictB), np.std(nbVictN))"
   ]
  },
  {
   "cell_type": "code",
   "execution_count": 49,
   "metadata": {},
   "outputs": [],
   "source": [
    "from scipy.optimize import curve_fit\n",
    "\n",
    "def model(x, a, sigma, mu):\n",
    "    return a * (1/(sigma*np.sqrt(2*np.pi))) * np.exp(- (x-mu)*(x-mu)/(2*sigma*sigma))\n",
    "\n",
    "def gaussienne(string):      #affiche la distrib gaussienne du score de blanc \n",
    "    data = np.loadtxt(string, delimiter = ' ')   #[scoreB, scoreN, gagnant]\n",
    "    N = np.shape(data[:,0])[0]\n",
    "    scoreBlanc = data[:,1]\n",
    "    labels, counts = np.unique(scoreBlanc, return_counts=True)\n",
    "    print(labels, counts)\n",
    "    xdata = labels\n",
    "    ydata = counts\n",
    "    popt, pcov = curve_fit(model, xdata, ydata, p0 = (1,1,30))  #popt renvoie les paramètres optimisés\n",
    "    x = np.linspace(np.min(labels),np.max(labels),1000)\n",
    "    plt.scatter(xdata,ydata, s=1)\n",
    "    plt.plot(x, model(x, *popt), c=\"orange\", label = r\"y = $a\\frac{1}{\\sigma \\sqrt{2\\pi}}e^{-\\frac{(x-\\mu)^2}{2\\sigma^2}}$\")\n",
    "    plt.xlabel(\"Score de blanc\")\n",
    "    plt.ylabel(\"Nombre de parties\")\n",
    "    plt.title(r\"(a,$\\sigma,\\mu$) = (\" + sci_s(popt[0]) + ', ' + sci_s(popt[1]) + ', ' + sci_s(popt[2]) + ')')\n",
    "    ytext = np.max(ydata) - N/200\n",
    "    #plt.text(5, ytext, r\"y = $a\\frac{1}{\\sigma \\sqrt{2\\pi}}e^{-\\frac{(x-\\mu)^2}{2\\sigma^2}}$\")\n",
    "    #plt.text(38, ytext, r\"(a,$\\sigma,\\mu$) = (\" + sci_s(popt[0]) + ', ' + sci_s(popt[1]) + ', ' + sci_s(popt[2]) + ')', size=8)\n",
    "    plt.legend()\n",
    "    "
   ]
  },
  {
   "cell_type": "markdown",
   "metadata": {},
   "source": [
    "Comparaison des algorithmes"
   ]
  },
  {
   "cell_type": "markdown",
   "metadata": {},
   "source": [
    "1) Aléatoire VS Aléatoire"
   ]
  },
  {
   "cell_type": "markdown",
   "metadata": {},
   "source": [
    "1.1) Noir VS blanc"
   ]
  },
  {
   "cell_type": "code",
   "execution_count": 54,
   "metadata": {},
   "outputs": [
    {
     "data": {
      "image/png": "[encoded data removed]",
      "text/plain": [
       "<matplotlib.figure.Figure at 0x10194b17f0>"
      ]
     },
     "metadata": {},
     "output_type": "display_data"
    }
   ],
   "source": [
    "#os.system(myCmd1)\n",
    "#os.system(myCmd2)\n",
    "\n",
    "stats(\"data/alea_noirVSblanc.dat\")\n",
    "#plt.savefig(\"Graphs2/Histo_alea_noirVSblanc.svg\", format = 'svg')"
   ]
  },
  {
   "cell_type": "code",
   "execution_count": 56,
   "metadata": {},
   "outputs": [
    {
     "name": "stdout",
     "output_type": "stream",
     "text": [
      "[ 0.  1.  2.  3.  4.  5.  6.  7.  8.  9. 10. 11. 12. 13. 14. 15. 16. 17.\n",
      " 18. 19. 20. 21. 22. 23. 24. 25. 26. 27. 28. 29. 30. 31. 32. 33. 34. 35.\n",
      " 36. 37. 38. 39. 40. 41. 42. 43. 44. 45. 46. 47. 48. 49. 50. 51. 52. 53.\n",
      " 54. 55. 56. 57. 58. 59. 60. 61. 62. 63.] [   6    2    1    3    7   16   24   51  101  144  233  290  361  588\n",
      "  713  919 1080 1378 1572 1826 2151 2389 2701 2885 3245 3480 3615 3889\n",
      " 3983 4070 4211 4198 4273 4140 4146 3929 3695 3548 3437 2989 2862 2498\n",
      " 2281 1922 1701 1525 1388 1154  972  822  700  549  407  322  222  156\n",
      "   94   65   36   22    6    4    2    1]\n"
     ]
    },
    {
     "data": {
      "image/png": "[encoded data removed]",
      "text/plain": [
       "<matplotlib.figure.Figure at 0x10190d29b0>"
      ]
     },
     "metadata": {},
     "output_type": "display_data"
    }
   ],
   "source": [
    "gaussienne(\"data/alea_noirVSblanc.dat\")\n",
    "#plt.savefig(\"Graphs2/Gaussienne_alea_noirVSblanc.svg\", format = 'svg')"
   ]
  },
  {
   "cell_type": "markdown",
   "metadata": {},
   "source": [
    "1.2) Joueur 1 VS joueur 2 (noir 50%, blanc 50%)"
   ]
  },
  {
   "cell_type": "code",
   "execution_count": 59,
   "metadata": {},
   "outputs": [
    {
     "data": {
      "image/png": "[encoded data removed]",
      "text/plain": [
       "<matplotlib.figure.Figure at 0x10185f9198>"
      ]
     },
     "metadata": {},
     "output_type": "display_data"
    }
   ],
   "source": [
    "os.system(myCmd1)\n",
    "os.system(myCmd2)\n",
    "\n",
    "stats(\"data/alea_j1VSj2.dat\")\n",
    "#plt.savefig(\"Graphs2/Histo_alea_j1VSj2.svg\", format = 'svg')"
   ]
  },
  {
   "cell_type": "code",
   "execution_count": null,
   "metadata": {},
   "outputs": [],
   "source": [
    "gaussienne(\"data/alea_j1VSj2.dat\")\n",
    "#plt.savefig(\"Graphs2/Gaussienne_alea_j1VSj2.svg\", format = 'svg')"
   ]
  },
  {
   "cell_type": "markdown",
   "metadata": {},
   "source": [
    "2) RetourneMax VS Aléatoire"
   ]
  },
  {
   "cell_type": "code",
   "execution_count": null,
   "metadata": {},
   "outputs": [],
   "source": [
    "#os.system(myCmd1)\n",
    "#os.system(myCmd2)\n",
    "\n",
    "stats(\"data/retourneMax.dat\")\n",
    "#plt.savefig(\"Graphs2/Histo_retourneMax.svg\", format = 'svg')"
   ]
  },
  {
   "cell_type": "code",
   "execution_count": null,
   "metadata": {},
   "outputs": [],
   "source": [
    "gaussienne(\"data/retourneMax.dat\")\n",
    "#plt.savefig(\"Graphs2/Gaussienne_retourneMax.svg\", format = 'svg')"
   ]
  },
  {
   "cell_type": "markdown",
   "metadata": {},
   "source": [
    "3) MinMax VS Aléatoire"
   ]
  },
  {
   "cell_type": "code",
   "execution_count": null,
   "metadata": {},
   "outputs": [],
   "source": [
    "#os.system(myCmd1)\n",
    "#os.system(myCmd2)\n",
    "\n",
    "stats(\"data/MinMax_prof1.dat\")\n",
    "#plt.savefig(\"Graphs2/Histo_MinMax_prof1.svg\", format = 'svg')"
   ]
  },
  {
   "cell_type": "code",
   "execution_count": null,
   "metadata": {},
   "outputs": [],
   "source": [
    "gaussienne(\"data/MinMax_prof1.dat\")\n",
    "#plt.savefig(\"Graphs2/Gaussienne_MinMax_prof1.svg\", format = 'svg')"
   ]
  }
 ],
 "metadata": {
  "kernelspec": {
   "display_name": "Python 3",
   "language": "python",
   "name": "python3"
  },
  "language_info": {
   "codemirror_mode": {
    "name": "ipython",
    "version": 3
   },
   "file_extension": ".py",
   "mimetype": "text/x-python",
   "name": "python",
   "nbconvert_exporter": "python",
   "pygments_lexer": "ipython3",
   "version": "3.6.2"
  }
 },
 "nbformat": 4,
 "nbformat_minor": 2
}
