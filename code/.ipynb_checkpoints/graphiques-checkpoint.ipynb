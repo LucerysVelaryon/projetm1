{
 "cells": [
  {
   "cell_type": "code",
   "execution_count": 25,
   "metadata": {},
   "outputs": [],
   "source": [
    "%matplotlib inline\n",
    "import numpy as np\n",
    "import matplotlib \n",
    "import matplotlib.pyplot as plt"
   ]
  },
  {
   "cell_type": "code",
   "execution_count": 26,
   "metadata": {},
   "outputs": [],
   "source": [
    "import os\n",
    "myCmd1_ = 'g++ __main__.cpp -o a'\n",
    "myCmd1 = 'g++ __main__.cpp annexes.cpp grille.cpp joueur.cpp -o a'\n",
    "myCmd2 = './a'"
   ]
  },
  {
   "cell_type": "code",
   "execution_count": 27,
   "metadata": {},
   "outputs": [],
   "source": [
    "def afficheHisto_1data(data):   #Prend en argument 1 liste de scores\n",
    "    gagnant = data[:,2]\n",
    "    labels, counts = np.unique(gagnant, return_counts=True)\n",
    "    plt.bar(labels, counts, align='center', color = \"orange\")\n",
    "    #plt.hist(gagnant, color=\"orange\", bins=3)\n",
    "\n",
    "    plt.xticks([0, 1, 2],[\"Egalité\", \"Blanc\", \"Noir\"])\n",
    "    plt.title(\"Nombre de parties gagnées\")   #add sur cb de parties ?\n",
    "    print(\"Nombre d'égalité, de victoires de blanc, de victoires de Noir : \", counts)\n",
    "    \n",
    "def afficheHisto_moy(moy, std, N):   #Prend en argument une moyenne de scores\n",
    "    plt.bar([0, 1, 2], moy, align='center', color = \"orange\")\n",
    "    plt.xticks([0, 1, 2],[\"Egalité\", \"Blanc\", \"Noir\"])\n",
    "    plt.title(\"Nombre de parties gagnées\")   #add sur cb de parties ?\n",
    "    print(\"Nombre d'égalité, de victoires de blanc, de victoires de Noir en moyenne: \", moy)\n",
    "    \n",
    "    for i in range(3):\n",
    "        plt.axhline(y = moy[i]+std[i], xmin=i*(1/3)+0.04, xmax=(i+1)*(1/3)-0.04, c='k', linestyle=\"dashed\")\n",
    "        plt.axhline(y = moy[i]-std[i], xmin=i*(1/3)+0.04, xmax=(i+1)*(1/3)-0.04, c='k', linestyle=\"dashed\")\n",
    "    plt.axhline(y = (N-moy[0])/2, xmin=0, xmax=3, c=\"darkred\", linestyle=\"dashed\")\n",
    "    "
   ]
  },
  {
   "cell_type": "code",
   "execution_count": 28,
   "metadata": {},
   "outputs": [],
   "source": [
    "def stats(N):    #fait une moyenne sur N listes du nb de victoires B/N\n",
    "    print(\"Nombre de set de parties sur lequel on moyenne: \", N)\n",
    "    nbVict = np.zeros((N,3))   # tableau du nb de vict pour chaque set de data \n",
    "    for i in range(N):         # (0 = egalité, 1 = blanc, 2 = noir)\n",
    "        os.system(myCmd1)\n",
    "        os.system(myCmd2)\n",
    "        data = np.loadtxt(\"resultats.dat\", delimiter = ' ')   #[scoreB, scoreN, gagnant]\n",
    "        gagnant = data[:,2]\n",
    "        nbVict[i][0] = np.sum(gagnant == 0)\n",
    "        nbVict[i][1] = np.sum(gagnant == 1)\n",
    "        nbVict[i][2] = np.sum(gagnant == 2)\n",
    "        \n",
    "    afficheHisto_moy(np.mean(nbVict, axis=0), np.std(nbVict, axis=0), N)\n",
    "    #print(np.std(nbEgalite), np.std(nbVictB), np.std(nbVictN))"
   ]
  },
  {
   "cell_type": "code",
   "execution_count": 29,
   "metadata": {},
   "outputs": [],
   "source": [
    "from scipy.optimize import curve_fit\n",
    "\n",
    "def model(x, a, sigma, mu):\n",
    "    return a * (1/(sigma*np.sqrt(2*np.pi))) * np.exp(- (x-mu)*(x-mu)/(2*sigma*sigma))\n",
    "\n",
    "def gaussienne():      #affiche la distrib gaussienne du score de blanc \n",
    "    data = np.loadtxt(\"resultats.dat\", delimiter = ' ')   #[scoreB, scoreN, gagnant]\n",
    "    scoreBlanc = data[:,1]\n",
    "    labels, counts = np.unique(scoreBlanc, return_counts=True)\n",
    "    print(labels, counts)\n",
    "    xdata = labels\n",
    "    ydata = counts\n",
    "    popt, pcov = curve_fit(model, xdata, ydata, p0 = (1,1,30))  #popt renvoie les paramètres optimisés\n",
    "    x = np.linspace(np.min(labels),np.max(labels),1000)\n",
    "    plt.scatter(xdata,ydata, s=1)\n",
    "    plt.plot(x, model(x, *popt), c=\"orange\")\n",
    "    plt.xlabel(\"Score de blanc\")\n",
    "    plt.ylabel(\"Nombre de parties\")"
   ]
  },
  {
   "cell_type": "markdown",
   "metadata": {},
   "source": [
    "1) Comparaison ds algorithmes - Nb de parties gagnées"
   ]
  },
  {
   "cell_type": "code",
   "execution_count": null,
   "metadata": {},
   "outputs": [],
   "source": []
  },
  {
   "cell_type": "markdown",
   "metadata": {},
   "source": [
    "2) Comparaison - Gaussienne du nb de parties en fct du score"
   ]
  },
  {
   "cell_type": "code",
   "execution_count": null,
   "metadata": {},
   "outputs": [],
   "source": [
    "os.system(myCmd1)\n",
    "os.system(myCmd2)\n",
    "\n",
    "gaussienne()\n",
    "plt.savefig(\"Graphs/Gaussienne_aleatoire.svg\", format = 'svg')"
   ]
  }
 ],
 "metadata": {
  "kernelspec": {
   "display_name": "Python 3",
   "language": "python",
   "name": "python3"
  },
  "language_info": {
   "codemirror_mode": {
    "name": "ipython",
    "version": 3
   },
   "file_extension": ".py",
   "mimetype": "text/x-python",
   "name": "python",
   "nbconvert_exporter": "python",
   "pygments_lexer": "ipython3",
   "version": "3.6.2"
  }
 },
 "nbformat": 4,
 "nbformat_minor": 2
}
