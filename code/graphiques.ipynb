{
 "cells": [
  {
   "cell_type": "code",
   "execution_count": 180,
   "metadata": {},
   "outputs": [],
   "source": [
    "%matplotlib inline\n",
    "import numpy as np\n",
    "import matplotlib \n",
    "import matplotlib.pyplot as plt"
   ]
  },
  {
   "cell_type": "code",
   "execution_count": 181,
   "metadata": {},
   "outputs": [],
   "source": [
    "import os\n",
    "myCmd1 = 'g++ __main__.cpp -o a'\n",
    "myCmd2 = './a'"
   ]
  },
  {
   "cell_type": "code",
   "execution_count": 182,
   "metadata": {},
   "outputs": [],
   "source": [
    "def afficheHisto_1data(data):   #Prend en argument 1 liste de scores\n",
    "    gagnant = data[:,2]\n",
    "    labels, counts = np.unique(gagnant, return_counts=True)\n",
    "    plt.bar(labels, counts, align='center', color = \"orange\")\n",
    "    #plt.hist(gagnant, color=\"orange\", bins=3)\n",
    "\n",
    "    plt.xticks([0, 1, 2],[\"Egalité\", \"Blanc\", \"Noir\"])\n",
    "    plt.title(\"Nombre de parties gagnées\")   #add sur cb de parties ?\n",
    "    print(\"Nombre d'égalité, de victoires de blanc, de victoires de Noir : \", counts)\n",
    "    \n",
    "def afficheHisto_moy(moy, std, N):   #Prend en argument une moyenne de scores\n",
    "    plt.bar([0, 1, 2], moy, align='center', color = \"orange\")\n",
    "    plt.xticks([0, 1, 2],[\"Egalité\", \"Blanc\", \"Noir\"])\n",
    "    plt.title(\"Nombre de parties gagnées\")   #add sur cb de parties ?\n",
    "    print(\"Nombre d'égalité, de victoires de blanc, de victoires de Noir en moyenne: \", moy)\n",
    "    \n",
    "    for i in range(3):\n",
    "        plt.axhline(y = moy[i]+std[i], xmin=i*(1/3)+0.04, xmax=(i+1)*(1/3)-0.04, c='k', linestyle=\"dashed\")\n",
    "        plt.axhline(y = moy[i]-std[i], xmin=i*(1/3)+0.04, xmax=(i+1)*(1/3)-0.04, c='k', linestyle=\"dashed\")\n",
    "    plt.axhline(y = (N-moy[0])/2, xmin=0, xmax=3, c=\"darkred\", linestyle=\"dashed\")\n",
    "    "
   ]
  },
  {
   "cell_type": "code",
   "execution_count": 183,
   "metadata": {},
   "outputs": [],
   "source": [
    "def stats(N):    #fait une moyenne sur N listes du nb de victoires B/N\n",
    "    print(\"Nombre de set de parties sur lequel on moyenne: \", N)\n",
    "    nbVict = np.zeros((N,3))   # tableau du nb de vict pour chaque set de data \n",
    "    for i in range(N):         # (0 = egalité, 1 = blanc, 2 = noir)\n",
    "        os.system(myCmd1)\n",
    "        os.system(myCmd2)\n",
    "        data = np.loadtxt(\"resultats.dat\", delimiter = ' ')   #[scoreB, scoreN, gagnant]\n",
    "        gagnant = data[:,2]\n",
    "        nbVict[i][0] = np.sum(gagnant == 0)\n",
    "        nbVict[i][1] = np.sum(gagnant == 1)\n",
    "        nbVict[i][2] = np.sum(gagnant == 2)\n",
    "        \n",
    "    afficheHisto_moy(np.mean(nbVict, axis=0), np.std(nbVict, axis=0), N)\n",
    "    #print(np.std(nbEgalite), np.std(nbVictB), np.std(nbVictN))"
   ]
  },
  {
   "cell_type": "code",
   "execution_count": 226,
   "metadata": {},
   "outputs": [
    {
     "name": "stdout",
     "output_type": "stream",
     "text": [
      "[ 0.  1.  2.  3.  4.  5.  6.  7.  8.  9. 10. 11. 12. 13. 14. 15. 16. 17.\n",
      " 18. 19. 20. 21. 22. 23. 24. 25. 26. 27. 28. 29. 30. 31. 32. 33. 34. 35.\n",
      " 36. 37. 38. 39. 40. 41. 42. 43. 44. 45. 46. 47. 48. 49. 50. 51. 52. 53.\n",
      " 54. 55. 56. 57. 58. 59. 60. 63.] [315  34  19  27  30  17  19  37  49  63  60  81 101 122 160 149 203 218\n",
      " 224 240 270 306 302 282 330 307 326 326 337 310 360 357 353 345 324 267\n",
      " 290 275 268 224 191 214 212 150 160 139 113  95  92  90  59  47  34  28\n",
      "  27   8   6   2   2   2   1   1]\n",
      "9965.868969011108 11.4498755142273 28.941067433229865\n"
     ]
    },
    {
     "data": {
      "image/png": "[encoded data removed]",
      "text/plain": [
       "<matplotlib.figure.Figure at 0x11a74dc88>"
      ]
     },
     "metadata": {},
     "output_type": "display_data"
    }
   ],
   "source": [
    "from scipy.optimize import curve_fit\n",
    "\n",
    "def model(x, a, sigma, mu):\n",
    "    return a * (1/(sigma*np.sqrt(2*np.pi))) * np.exp(- (x-mu)*(x-mu)/(2*sigma*sigma))\n",
    "\n",
    "def gaussienne():      #affiche la distrib gaussienne du score de blanc\n",
    "    N = 10000           #nbParties\n",
    "    #os.system(myCmd1)\n",
    "    #os.system(myCmd2)\n",
    "    data = np.loadtxt(\"resultats.dat\", delimiter = ' ')   #[scoreB, scoreN, gagnant]\n",
    "    scoreBlanc = data[:,1]\n",
    "    labels, counts = np.unique(scoreBlanc, return_counts=True)\n",
    "    print(labels, counts)\n",
    "    xdata = labels\n",
    "    ydata = counts\n",
    "    popt, pcov = curve_fit(model, xdata, ydata, p0 = (1,1,30))  #popt renvoie les paramètres optimisés\n",
    "    print(*popt)\n",
    "    x = np.linspace(np.min(labels),np.max(labels),1000)\n",
    "    plt.scatter(xdata,ydata, s=1)\n",
    "    plt.plot(x, model(x, *popt), c=\"orange\")\n",
    "    \n",
    "gaussienne()"
   ]
  },
  {
   "cell_type": "code",
   "execution_count": null,
   "metadata": {},
   "outputs": [],
   "source": [
    "os.system(myCmd1)\n",
    "os.system(myCmd2)"
   ]
  }
 ],
 "metadata": {
  "kernelspec": {
   "display_name": "Python 3",
   "language": "python",
   "name": "python3"
  },
  "language_info": {
   "codemirror_mode": {
    "name": "ipython",
    "version": 3
   },
   "file_extension": ".py",
   "mimetype": "text/x-python",
   "name": "python",
   "nbconvert_exporter": "python",
   "pygments_lexer": "ipython3",
   "version": "3.6.2"
  }
 },
 "nbformat": 4,
 "nbformat_minor": 2
}
